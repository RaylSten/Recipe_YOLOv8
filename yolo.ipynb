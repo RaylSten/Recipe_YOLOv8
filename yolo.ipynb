{
 "cells": [
  {
   "attachments": {},
   "cell_type": "markdown",
   "metadata": {},
   "source": [
    "## Import Packages"
   ]
  },
  {
   "cell_type": "code",
   "execution_count": 1,
   "metadata": {},
   "outputs": [
    {
     "name": "stderr",
     "output_type": "stream",
     "text": [
      "c:\\Users\\Aorus\\.conda\\envs\\yolo\\lib\\site-packages\\tqdm\\auto.py:21: TqdmWarning: IProgress not found. Please update jupyter and ipywidgets. See https://ipywidgets.readthedocs.io/en/stable/user_install.html\n",
      "  from .autonotebook import tqdm as notebook_tqdm\n"
     ]
    },
    {
     "name": "stdout",
     "output_type": "stream",
     "text": [
      "Torch GPU:  True\n",
      "TF GPU:  True\n"
     ]
    }
   ],
   "source": [
    "import torch\n",
    "# import tensorflow as tf\n",
    "from ultralytics import YOLO\n",
    "\n",
    "## GPU Test\n",
    "print('Torch GPU: ', torch.cuda.is_available())\n",
    "# print('TF GPU: ', tf.config.list_physical_devices('GPU') != [])"
   ]
  },
  {
   "attachments": {},
   "cell_type": "markdown",
   "metadata": {},
   "source": [
    "## Modeling"
   ]
  },
  {
   "cell_type": "code",
   "execution_count": 7,
   "metadata": {},
   "outputs": [],
   "source": [
    "## load a pretrained YOLOv8n model\n",
    "model = YOLO(\"D:/Python/yolofood/runs/detect/train13/weights/best.pt\")"
   ]
  },
  {
   "cell_type": "code",
   "execution_count": null,
   "metadata": {},
   "outputs": [],
   "source": [
    "## train the model\n",
    "model.train(data=\"./datasets/FruitVegi.yolov8/data.yaml\",workers = 0, epochs = 5)"
   ]
  },
  {
   "cell_type": "code",
   "execution_count": null,
   "metadata": {},
   "outputs": [],
   "source": [
    "## evaluate model performance on the validation set\n",
    "metrics = model.val()  # no arguments needed, dataset and settings remembered\n",
    "metrics.box.map    # map50-95\n",
    "metrics.box.map50  # map50\n",
    "metrics.box.map75  # map75\n",
    "metrics.box.maps   # a list contains map50-95 of each category"
   ]
  },
  {
   "cell_type": "code",
   "execution_count": 8,
   "metadata": {},
   "outputs": [
    {
     "name": "stderr",
     "output_type": "stream",
     "text": [
      "\n",
      "Found https:\\luxofood.com\\wp-content\\uploads\\2021\\12\\oct4-image-1.jpg locally at oct4-image-1.jpg\n",
      "image 1/1 D:\\Python\\yolofood\\oct4-image-1.jpg: 448x640 1 Cabbage, 1 Capsicum, 1 Carrot, 1 Maize, 1 Melon, 2 Oranges, 1 Pineapple, 1 Watermelon, 11.0ms\n",
      "Speed: 1.0ms preprocess, 11.0ms inference, 1.0ms postprocess per image at shape (1, 3, 640, 640)\n"
     ]
    }
   ],
   "source": [
    "y = model(source=\"https://luxofood.com/wp-content/uploads/2021/12/oct4-image-1.jpg\")  # predict on an image"
   ]
  },
  {
   "cell_type": "code",
   "execution_count": 10,
   "metadata": {},
   "outputs": [
    {
     "data": {
      "text/plain": [
       "array([[[ 68, 154, 124],\n",
       "        [ 58, 148, 118],\n",
       "        [ 45, 139, 108],\n",
       "        ...,\n",
       "        [198, 218, 243],\n",
       "        [198, 218, 243],\n",
       "        [198, 218, 243]],\n",
       "\n",
       "       [[ 67, 153, 123],\n",
       "        [ 57, 147, 117],\n",
       "        [ 45, 139, 108],\n",
       "        ...,\n",
       "        [198, 218, 243],\n",
       "        [198, 218, 243],\n",
       "        [198, 218, 243]],\n",
       "\n",
       "       [[ 65, 150, 122],\n",
       "        [ 57, 147, 118],\n",
       "        [ 46, 139, 110],\n",
       "        ...,\n",
       "        [196, 216, 241],\n",
       "        [196, 216, 241],\n",
       "        [196, 216, 241]],\n",
       "\n",
       "       ...,\n",
       "\n",
       "       [[176, 202, 226],\n",
       "        [176, 202, 226],\n",
       "        [176, 202, 226],\n",
       "        ...,\n",
       "        [167, 238, 242],\n",
       "        [170, 239, 242],\n",
       "        [171, 240, 243]],\n",
       "\n",
       "       [[176, 202, 226],\n",
       "        [176, 202, 226],\n",
       "        [176, 202, 226],\n",
       "        ...,\n",
       "        [167, 238, 242],\n",
       "        [170, 239, 242],\n",
       "        [171, 240, 243]],\n",
       "\n",
       "       [[176, 202, 226],\n",
       "        [176, 202, 226],\n",
       "        [176, 202, 226],\n",
       "        ...,\n",
       "        [167, 238, 242],\n",
       "        [170, 239, 242],\n",
       "        [171, 240, 243]]], dtype=uint8)"
      ]
     },
     "execution_count": 10,
     "metadata": {},
     "output_type": "execute_result"
    }
   ],
   "source": [
    "y[0].plot()"
   ]
  },
  {
   "cell_type": "code",
   "execution_count": 11,
   "metadata": {},
   "outputs": [
    {
     "name": "stderr",
     "output_type": "stream",
     "text": [
      "\n",
      "Found https:\\luxofood.com\\wp-content\\uploads\\2021\\12\\oct4-image-1.jpg locally at oct4-image-1.jpg\n",
      "image 1/1 D:\\Python\\yolofood\\oct4-image-1.jpg: 448x640 1 Cabbage, 1 Capsicum, 1 Carrot, 1 Maize, 1 Melon, 2 Oranges, 1 Pineapple, 1 Watermelon, 215.9ms\n",
      "Speed: 4.0ms preprocess, 215.9ms inference, 2.0ms postprocess per image at shape (1, 3, 640, 640)\n"
     ]
    }
   ],
   "source": [
    "import cv2\n",
    "\n",
    "\n",
    "y = model(source=\"https://luxofood.com/wp-content/uploads/2021/12/oct4-image-1.jpg\")  # predict on an image\n",
    "y_plotted = y[0].plot()\n",
    "cv2.namedWindow(\"window\", cv2.WINDOW_NORMAL)\n",
    "cv2.imshow(\"window\", y_plotted)\n",
    "cv2.waitKey(0)\n",
    "cv2.destroyAllWindows()"
   ]
  },
  {
   "cell_type": "code",
   "execution_count": 13,
   "metadata": {},
   "outputs": [
    {
     "data": {
      "text/plain": [
       "array([[[ 68, 154, 124],\n",
       "        [ 58, 148, 118],\n",
       "        [ 45, 139, 108],\n",
       "        ...,\n",
       "        [198, 218, 243],\n",
       "        [198, 218, 243],\n",
       "        [198, 218, 243]],\n",
       "\n",
       "       [[ 67, 153, 123],\n",
       "        [ 57, 147, 117],\n",
       "        [ 45, 139, 108],\n",
       "        ...,\n",
       "        [198, 218, 243],\n",
       "        [198, 218, 243],\n",
       "        [198, 218, 243]],\n",
       "\n",
       "       [[ 65, 150, 122],\n",
       "        [ 57, 147, 118],\n",
       "        [ 46, 139, 110],\n",
       "        ...,\n",
       "        [196, 216, 241],\n",
       "        [196, 216, 241],\n",
       "        [196, 216, 241]],\n",
       "\n",
       "       ...,\n",
       "\n",
       "       [[176, 202, 226],\n",
       "        [176, 202, 226],\n",
       "        [176, 202, 226],\n",
       "        ...,\n",
       "        [167, 238, 242],\n",
       "        [170, 239, 242],\n",
       "        [171, 240, 243]],\n",
       "\n",
       "       [[176, 202, 226],\n",
       "        [176, 202, 226],\n",
       "        [176, 202, 226],\n",
       "        ...,\n",
       "        [167, 238, 242],\n",
       "        [170, 239, 242],\n",
       "        [171, 240, 243]],\n",
       "\n",
       "       [[176, 202, 226],\n",
       "        [176, 202, 226],\n",
       "        [176, 202, 226],\n",
       "        ...,\n",
       "        [167, 238, 242],\n",
       "        [170, 239, 242],\n",
       "        [171, 240, 243]]], dtype=uint8)"
      ]
     },
     "execution_count": 13,
     "metadata": {},
     "output_type": "execute_result"
    }
   ],
   "source": [
    "y[0].plot()"
   ]
  },
  {
   "cell_type": "code",
   "execution_count": null,
   "metadata": {},
   "outputs": [],
   "source": [
    "model.export(format=\"onnx\")  # export the model to ONNX format"
   ]
  },
  {
   "cell_type": "code",
   "execution_count": null,
   "metadata": {},
   "outputs": [],
   "source": [
    "import cv2\n",
    "\n",
    "res = model(source=\"https://luxofood.com/wp-content/uploads/2021/12/oct4-image-1.jpg\")\n",
    "res_plotted = res[0].plot()\n",
    "cv2.namedWindow(\"window\", cv2.WINDOW_NORMAL)\n",
    "cv2.imshow(\"window\", res_plotted)\n",
    "cv2.waitKey(0)\n",
    "cv2.destroyAllWindows()"
   ]
  },
  {
   "attachments": {},
   "cell_type": "markdown",
   "metadata": {},
   "source": [
    "## Load Model"
   ]
  },
  {
   "cell_type": "code",
   "execution_count": null,
   "metadata": {},
   "outputs": [],
   "source": [
    "load_model = YOLO('D:/Python/yolofood/runs/detect/train13/weights/best.pt')"
   ]
  },
  {
   "cell_type": "code",
   "execution_count": null,
   "metadata": {},
   "outputs": [],
   "source": []
  },
  {
   "cell_type": "code",
   "execution_count": null,
   "metadata": {},
   "outputs": [],
   "source": [
    "import os\n",
    "\n",
    "# \"D:/Python/yolofood/datasets/kaggle_fruit_veg/train/raddish/\"\n",
    "# \"D:/Python/yolofood/datasets/GroceryStoreDataset/dataset/train/Vegetables/Brown-Cap-Mushroom/\"\n",
    "# \"D:/Python/yolofood/datasets/GroceryStoreDataset/dataset/train/Fruit/Kiwi/\"\n",
    "# \"D:/Python/yolofood/datasets/GroceryStoreDataset/dataset/train/Packages/Juice/\"\n",
    "path = \"D:/Python/yolofood/datasets/GroceryStoreDataset/dataset/train/Packages/Yoghurt/\"\n",
    "\n",
    "img = os.listdir(path)[1:5]\n",
    "\n",
    "import cv2\n",
    "\n",
    "for i in img:\n",
    "    res = model(source=f\"{path}{i}\")\n",
    "    res_plotted = res[0].plot()\n",
    "    cv2.namedWindow(\"window\", cv2.WINDOW_NORMAL)\n",
    "    cv2.imshow(\"window\", res_plotted)\n",
    "    cv2.waitKey(0)\n",
    "    cv2.destroyAllWindows()"
   ]
  }
 ],
 "metadata": {
  "kernelspec": {
   "display_name": "yolo",
   "language": "python",
   "name": "python3"
  },
  "language_info": {
   "codemirror_mode": {
    "name": "ipython",
    "version": 3
   },
   "file_extension": ".py",
   "mimetype": "text/x-python",
   "name": "python",
   "nbconvert_exporter": "python",
   "pygments_lexer": "ipython3",
   "version": "3.8.16"
  },
  "orig_nbformat": 4
 },
 "nbformat": 4,
 "nbformat_minor": 2
}
